{
 "cells": [
  {
   "cell_type": "code",
   "execution_count": 0,
   "metadata": {
    "colab": {},
    "colab_type": "code",
    "id": "-yhgZPm4E8R_"
   },
   "outputs": [],
   "source": [
    "import utils\n",
    "import pandas as pd\n",
    "import numpy as np\n",
    "from sklearn.externals import joblib\n",
    "\n",
    "import category_encoders as ce\n",
    "\n",
    "import importlib\n",
    "importlib.reload(utils)\n",
    "\n",
    "pd.options.display.float_format = \"{:.2f}\".format\n",
    "pd.set_option('display.max_columns', None)  # or 1000\n",
    "pd.set_option('display.max_rows', None)  # or 1000\n",
    "pd.set_option('display.max_colwidth', -1)  # or 199"
   ]
  },
  {
   "cell_type": "markdown",
   "metadata": {
    "colab_type": "text",
    "id": "mnxQ9lxYE8SE"
   },
   "source": [
    "# Get data"
   ]
  },
  {
   "cell_type": "code",
   "execution_count": 0,
   "metadata": {
    "colab": {},
    "colab_type": "code",
    "id": "Z4ClPVS8E8SF",
    "outputId": "36dea0d1-c90b-4fea-bda8-c7c685e0ecbc"
   },
   "outputs": [
    {
     "name": "stdout",
     "output_type": "stream",
     "text": [
      "(1389202, 91)\n"
     ]
    },
    {
     "data": {
      "text/plain": [
       "0    1386632\n",
       "1    2570   \n",
       "Name: target, dtype: int64"
      ]
     },
     "execution_count": 2,
     "metadata": {
      "tags": []
     },
     "output_type": "execute_result"
    }
   ],
   "source": [
    "df1=pd.read_csv('/home/gjain/data_000000000000.csv')\n",
    "df2=pd.read_csv('/home/gjain/data_000000000001.csv')\n",
    "df3=pd.read_csv('/home/gjain/data_000000000002.csv')\n",
    "\n",
    "df=df1.append(df2)\n",
    "df=df.append(df3)\n",
    "\n",
    "# df=pd.read_csv('/home/gjain/dec_data_000000000000.csv')\n",
    "\n",
    "df.drop_duplicates(subset='order_number', keep='first', inplace=True)\n",
    "print (df.shape)\n",
    "\n",
    "df.target.value_counts()"
   ]
  },
  {
   "cell_type": "markdown",
   "metadata": {
    "colab_type": "text",
    "id": "AeUuRtM1E8iV"
   },
   "source": [
    "# Feature engineering"
   ]
  },
  {
   "cell_type": "code",
   "execution_count": 0,
   "metadata": {
    "colab": {},
    "colab_type": "code",
    "id": "_pcfiuczE8iW"
   },
   "outputs": [],
   "source": [
    "email=df['customer_email'].str.split(\"@\",expand=True)\n",
    "email.columns=['id','domain']\n",
    "df['email_id']=email['id']\n",
    "df['email_user_id_len']=email['id'].astype('str').apply(lambda x: len(x) if x is not None else 0)\n",
    "df['email_domain']=email['domain']\n",
    "\n",
    "#DOB splits\n",
    "dob=df['dob'].astype('str').str.split(\" \",expand=True)\n",
    "dob=dob[dob.columns[0]].str.split(\"-\",expand=True)\n",
    "dob.columns=['year','month','day']\n",
    "df['dob_year']=dob['year'].astype('str')\n",
    "df['dob_month']=dob['month'].astype('str')\n",
    "df['dob_day']=dob['day'].astype('str')\n",
    "\n",
    "df['bookerIsTravelAgency'] = df.customer_name.astype('str').apply(lambda x: utils.booker_is_travel_agency(x) if x is not None else False)\n",
    "df['successful_attempt_no']=df.success_attempt_id.apply(lambda x: utils.attempt_no(x))\n",
    "df['country_ip_flight_MatchScore']=df.apply(utils.country_ip_flight_match_score, axis=1)\n",
    "df['flight_distance']=df.apply(utils.one_way_distance, axis=1)\n",
    "df['days_to_departure']=df.apply(utils.days_to_departure,axis=1)\n",
    "df['vacation_length']=df.apply(utils.vacation_length,axis=1)\n",
    "df['cities_in_itinerary']=df.Itinerary.astype('str').apply(lambda x: utils.cities_in_itinerary(x) if x is not None else 0)\n",
    "df['cabin_class']=df.CabinClasses.astype('str').apply(lambda x: utils.cabinclass(x))\n",
    "df['bookerAge']=df.dob_year.apply(lambda x: utils.get_age(x))\n",
    "df['name_len']=df.customer_name.astype('str').apply(lambda x: len(x) if x is not None else 0)\n",
    "\n",
    "## Time related variables to be binned\n",
    "df['weekend_booking']=df.OrderDateBrandTime_DayOfWeek.apply(lambda x: 1 if x in (1,7) else 0)\n",
    "df['booking_daytime']= df.OrderDateBrandTime_Hour.apply(lambda x: utils.booking_daytime(x))\n",
    "df['bookerAgeBracket']=df.bookerAge.apply(lambda x: utils.booker_age_bracket(x))\n",
    "df['channelcode'].fillna('Direct',inplace=True)\n",
    "\n",
    "df['dob_month'].fillna(0.0,inplace=True)\n",
    "\n",
    "df.customer_name.fillna('Unknown',inplace=True)\n",
    "df.email_id.fillna(value='Unknown',inplace=True)\n",
    "\n",
    "df['eci']=df['eci'].apply(lambda x: x.replace('0','',1) if isinstance(x,str) else str(x).replace('0','',1))\n",
    "\n",
    "#This can throw error if customer name or email id is nan\n",
    "score = np.vectorize(utils.jaro_similarity, otypes=[np.float])(df.customer_name.values, df.email_id.values)\n",
    "vector_emailed2 = np.vectorize(utils.email_real_check2)\n",
    "email_sanity_score=vector_emailed2(df.customer_name.values, df.email_id.values, df.dob_year.values, df.dob_month.values,\n",
    "                                   df.dob_day.values, score)\n",
    "df['email_sanity_score']=email_sanity_score\n",
    "\n",
    "#Cyclical features from timestamp\n",
    "df['ordermonth_sin']=df.OrderDateBrandTime_Month.apply(lambda x: utils.encode_circular(x,\"sin\", 12))\n",
    "df['ordermonth_cos']=df.OrderDateBrandTime_Month.apply(lambda x: utils.encode_circular(x,\"cos\", 12))\n",
    "\n",
    "dd=df.DepartureDate.apply(lambda x: pd.to_datetime(x).date().month)\n",
    "df['departuremonth_sin']=dd.apply(lambda x: utils.encode_circular(x,\"sin\", 12))\n",
    "df['departuremonth_cos']=dd.apply(lambda x: utils.encode_circular(x,\"cos\", 12))\n",
    "\n",
    "######################################################################################\n",
    "cols_to_drop=['BookerContactPhone','success_attempt_id','email_id','customer_email','dob','card_num','card_country','BookerStreet','BookerZipCode','BookerState','card_bin','customer_name','OriginLatitude','OriginLongitude','DestinationLatitude','DestinationLongitude',\n",
    "             'DepartureDate','ReturnDate','EndDate','FareType','GdsOfficeId','Itinerary','BookingClasses','CabinClasses','TicketingMethod','GA_DeviceIsMobile','GA_DeviceCategory','OrderDateBrandTime_Year',\n",
    "             'ip_address','dob_day','dob_year',\n",
    "              'OrderDateBrandTime_Month',\n",
    "              'OrderDateBrandTime_Hour','bookerAge','BrandTimeZone']\n",
    "\n",
    "df.drop(cols_to_drop,axis=1,inplace=True)"
   ]
  },
  {
   "cell_type": "markdown",
   "metadata": {
    "colab_type": "text",
    "id": "UouPedlmE8ia"
   },
   "source": [
    "# Missing value treatment"
   ]
  },
  {
   "cell_type": "code",
   "execution_count": 0,
   "metadata": {
    "colab": {},
    "colab_type": "code",
    "id": "875mmZesE8ia"
   },
   "outputs": [],
   "source": [
    "df.fillna('Unknown',axis=1,inplace=True)"
   ]
  },
  {
   "cell_type": "code",
   "execution_count": 0,
   "metadata": {
    "colab": {},
    "colab_type": "code",
    "collapsed": true,
    "id": "2wx8_V2dE8ie",
    "outputId": "b9704a62-5914-4819-8b3a-4438b172416a"
   },
   "outputs": [
    {
     "name": "stdout",
     "output_type": "stream",
     "text": [
      "Collecting category_encoders==1.2.8\n",
      "\u001b[?25l  Downloading https://files.pythonhosted.org/packages/a4/dd/660f7d3c8f344df3537dae1c4a96b92962ac4f470cf6fb763722cc420437/category_encoders-1.2.8-py2.py3-none-any.whl (44kB)\n",
      "\u001b[K     |████████████████████████████████| 51kB 3.7MB/s eta 0:00:011\n",
      "\u001b[?25hCollecting statsmodels<=0.8.0,>=0.6.0 (from category_encoders==1.2.8)\n",
      "\u001b[?25l  Downloading https://files.pythonhosted.org/packages/ea/43/ebd8a880fc3153e8f926d0749d26eca674401c986c76f99b0a248996da35/statsmodels-0.8.0-cp35-cp35m-manylinux1_x86_64.whl (6.2MB)\n",
      "\u001b[K     |████████████████████████████████| 6.2MB 14.1MB/s eta 0:00:01\n",
      "\u001b[?25hRequirement already satisfied: scipy>=0.9 in /home/ubuntu/yes/lib/python3.5/site-packages (from category_encoders==1.2.8) (1.2.1)\n",
      "Requirement already satisfied: numpy>=1.8.0 in /home/ubuntu/yes/lib/python3.5/site-packages (from category_encoders==1.2.8) (1.16.3)\n",
      "Requirement already satisfied: patsy>=0.4.0 in /home/ubuntu/yes/lib/python3.5/site-packages (from category_encoders==1.2.8) (0.5.0)\n",
      "Requirement already satisfied: pandas>=0.15.0 in /home/ubuntu/yes/lib/python3.5/site-packages (from category_encoders==1.2.8) (0.24.2)\n",
      "Requirement already satisfied: scikit-learn>=0.15.0 in /root/.local/lib/python3.5/site-packages (from category_encoders==1.2.8) (0.20.3)\n",
      "Requirement already satisfied: six in /home/ubuntu/yes/lib/python3.5/site-packages (from patsy>=0.4.0->category_encoders==1.2.8) (1.12.0)\n",
      "Requirement already satisfied: pytz>=2011k in /home/ubuntu/yes/lib/python3.5/site-packages (from pandas>=0.15.0->category_encoders==1.2.8) (2018.9)\n",
      "Requirement already satisfied: python-dateutil>=2.5.0 in /home/ubuntu/yes/lib/python3.5/site-packages (from pandas>=0.15.0->category_encoders==1.2.8) (2.7.3)\n",
      "Installing collected packages: statsmodels, category-encoders\n",
      "  Found existing installation: statsmodels 0.9.0\n",
      "    Uninstalling statsmodels-0.9.0:\n",
      "      Successfully uninstalled statsmodels-0.9.0\n",
      "  Found existing installation: category-encoders 2.0.0\n",
      "    Uninstalling category-encoders-2.0.0:\n",
      "      Successfully uninstalled category-encoders-2.0.0\n",
      "Successfully installed category-encoders-1.2.8 statsmodels-0.8.0\n",
      "\u001b[33mWARNING: You are using pip version 19.1, however version 19.1.1 is available.\n",
      "You should consider upgrading via the 'pip install --upgrade pip' command.\u001b[0m\n"
     ]
    }
   ],
   "source": [
    "!pip install category_encoders==1.2.8"
   ]
  },
  {
   "cell_type": "markdown",
   "metadata": {
    "colab_type": "text",
    "id": "SispsNSbE8ii"
   },
   "source": [
    "# Categorical encoding"
   ]
  },
  {
   "cell_type": "code",
   "execution_count": 0,
   "metadata": {
    "colab": {},
    "colab_type": "code",
    "collapsed": true,
    "id": "QnzyEkinE8io",
    "outputId": "a7b94b9a-844d-4c21-eed7-b042dedad1b2"
   },
   "outputs": [
    {
     "ename": "ValueError",
     "evalue": "The truth value of a Series is ambiguous. Use a.empty, a.bool(), a.item(), a.any() or a.all().",
     "output_type": "error",
     "traceback": [
      "\u001b[0;31m---------------------------------------------------------------------------\u001b[0m",
      "\u001b[0;31mValueError\u001b[0m                                Traceback (most recent call last)",
      "\u001b[0;32m<ipython-input-5-1b93c8e39efd>\u001b[0m in \u001b[0;36m<module>\u001b[0;34m()\u001b[0m\n\u001b[1;32m     15\u001b[0m \u001b[0;34m\u001b[0m\u001b[0m\n\u001b[1;32m     16\u001b[0m \u001b[0mencoder\u001b[0m \u001b[0;34m=\u001b[0m \u001b[0mce\u001b[0m\u001b[0;34m.\u001b[0m\u001b[0mOrdinalEncoder\u001b[0m\u001b[0;34m(\u001b[0m\u001b[0mcols\u001b[0m\u001b[0;34m=\u001b[0m\u001b[0mall_cat_cols\u001b[0m\u001b[0;34m,\u001b[0m \u001b[0mdrop_invariant\u001b[0m\u001b[0;34m=\u001b[0m\u001b[0;32mFalse\u001b[0m\u001b[0;34m,\u001b[0m \u001b[0mreturn_df\u001b[0m\u001b[0;34m=\u001b[0m\u001b[0;32mTrue\u001b[0m\u001b[0;34m,\u001b[0m \u001b[0mhandle_unknown\u001b[0m\u001b[0;34m=\u001b[0m\u001b[0;34m'impute'\u001b[0m\u001b[0;34m,\u001b[0m \u001b[0mhandle_missing\u001b[0m\u001b[0;34m=\u001b[0m\u001b[0;34m'error'\u001b[0m\u001b[0;34m)\u001b[0m\u001b[0;34m\u001b[0m\u001b[0m\n\u001b[0;32m---> 17\u001b[0;31m \u001b[0mencoder\u001b[0m\u001b[0;34m.\u001b[0m\u001b[0mfit\u001b[0m\u001b[0;34m(\u001b[0m\u001b[0mdf\u001b[0m\u001b[0;34m)\u001b[0m\u001b[0;34m\u001b[0m\u001b[0m\n\u001b[0m\u001b[1;32m     18\u001b[0m \u001b[0mdf\u001b[0m \u001b[0;34m=\u001b[0m \u001b[0mencoder\u001b[0m\u001b[0;34m.\u001b[0m\u001b[0mtransform\u001b[0m\u001b[0;34m(\u001b[0m\u001b[0mdf\u001b[0m\u001b[0;34m)\u001b[0m\u001b[0;34m\u001b[0m\u001b[0m\n\u001b[1;32m     19\u001b[0m \u001b[0;34m\u001b[0m\u001b[0m\n",
      "\u001b[0;32m/home/ubuntu/yes/lib/python3.5/site-packages/category_encoders/ordinal.py\u001b[0m in \u001b[0;36mfit\u001b[0;34m(self, X, y, **kwargs)\u001b[0m\n\u001b[1;32m    131\u001b[0m \u001b[0;34m\u001b[0m\u001b[0m\n\u001b[1;32m    132\u001b[0m         \u001b[0;32mif\u001b[0m \u001b[0mself\u001b[0m\u001b[0;34m.\u001b[0m\u001b[0mhandle_missing\u001b[0m \u001b[0;34m==\u001b[0m \u001b[0;34m'error'\u001b[0m\u001b[0;34m:\u001b[0m\u001b[0;34m\u001b[0m\u001b[0m\n\u001b[0;32m--> 133\u001b[0;31m             \u001b[0;32mif\u001b[0m \u001b[0mX\u001b[0m\u001b[0;34m[\u001b[0m\u001b[0mself\u001b[0m\u001b[0;34m.\u001b[0m\u001b[0mcols\u001b[0m\u001b[0;34m]\u001b[0m\u001b[0;34m.\u001b[0m\u001b[0misnull\u001b[0m\u001b[0;34m(\u001b[0m\u001b[0;34m)\u001b[0m\u001b[0;34m.\u001b[0m\u001b[0many\u001b[0m\u001b[0;34m(\u001b[0m\u001b[0;34m)\u001b[0m\u001b[0;34m.\u001b[0m\u001b[0mbool\u001b[0m\u001b[0;34m(\u001b[0m\u001b[0;34m)\u001b[0m\u001b[0;34m:\u001b[0m\u001b[0;34m\u001b[0m\u001b[0m\n\u001b[0m\u001b[1;32m    134\u001b[0m                 \u001b[0;32mraise\u001b[0m \u001b[0mValueError\u001b[0m\u001b[0;34m(\u001b[0m\u001b[0;34m'Columns to be encoded can not contain null'\u001b[0m\u001b[0;34m)\u001b[0m\u001b[0;34m\u001b[0m\u001b[0m\n\u001b[1;32m    135\u001b[0m \u001b[0;34m\u001b[0m\u001b[0m\n",
      "\u001b[0;32m/home/ubuntu/yes/lib/python3.5/site-packages/pandas/core/generic.py\u001b[0m in \u001b[0;36mbool\u001b[0;34m(self)\u001b[0m\n\u001b[1;32m   1495\u001b[0m                              \"{0}\".format(self.__class__.__name__))\n\u001b[1;32m   1496\u001b[0m \u001b[0;34m\u001b[0m\u001b[0m\n\u001b[0;32m-> 1497\u001b[0;31m         \u001b[0mself\u001b[0m\u001b[0;34m.\u001b[0m\u001b[0m__nonzero__\u001b[0m\u001b[0;34m(\u001b[0m\u001b[0;34m)\u001b[0m\u001b[0;34m\u001b[0m\u001b[0m\n\u001b[0m\u001b[1;32m   1498\u001b[0m \u001b[0;34m\u001b[0m\u001b[0m\n\u001b[1;32m   1499\u001b[0m     \u001b[0;32mdef\u001b[0m \u001b[0m__abs__\u001b[0m\u001b[0;34m(\u001b[0m\u001b[0mself\u001b[0m\u001b[0;34m)\u001b[0m\u001b[0;34m:\u001b[0m\u001b[0;34m\u001b[0m\u001b[0m\n",
      "\u001b[0;32m/home/ubuntu/yes/lib/python3.5/site-packages/pandas/core/generic.py\u001b[0m in \u001b[0;36m__nonzero__\u001b[0;34m(self)\u001b[0m\n\u001b[1;32m   1476\u001b[0m         raise ValueError(\"The truth value of a {0} is ambiguous. \"\n\u001b[1;32m   1477\u001b[0m                          \u001b[0;34m\"Use a.empty, a.bool(), a.item(), a.any() or a.all().\"\u001b[0m\u001b[0;34m\u001b[0m\u001b[0m\n\u001b[0;32m-> 1478\u001b[0;31m                          .format(self.__class__.__name__))\n\u001b[0m\u001b[1;32m   1479\u001b[0m \u001b[0;34m\u001b[0m\u001b[0m\n\u001b[1;32m   1480\u001b[0m     \u001b[0m__bool__\u001b[0m \u001b[0;34m=\u001b[0m \u001b[0m__nonzero__\u001b[0m\u001b[0;34m\u001b[0m\u001b[0m\n",
      "\u001b[0;31mValueError\u001b[0m: The truth value of a Series is ambiguous. Use a.empty, a.bool(), a.item(), a.any() or a.all()."
     ]
    }
   ],
   "source": [
    "all_cat_cols=['affiliate','channelcode','trans_currency','nonmor','payment_method','eci','card_cvvmatch','card_avsmatch','customer_title','website_language',\n",
    "          'brand_continent','HasTicketInsurance','HasInsurance','HasBaggage','HasBaggage_Sale','HasAirhelpPlus','UsedVoucher','HasSP','gender',\n",
    "          'BookerCity','BookerCountry_Name','airline','Consolidator','OriginAirportCode','OriginCityName','OriginCountryName','OriginWorldPartName','OriginRegion',\n",
    "          'OriginSubRegion','DestinationAirportCode','DestinationCityName','DestinationCountryName','DestinationWorldPartName','DestinationRegion','DestinationSubRegion',\n",
    "          'Supplier','DomesticOrInternational','Haul','OneWayOrReturn','IsCombinedOneWay','IsITFare',\n",
    "          'HasSplitPnr','DeviceType','IsLowCost','email_domain','cabin_class','bookerIsTravelAgency','weekend_booking',\n",
    "#           'OrderDateBrandTime_Month',\n",
    "          'dob_month','booking_daytime',\n",
    "          'bookerAgeBracket',\n",
    "           #new add\n",
    "          'OrderDateBrandTime_DayOfWeek',\n",
    "          #boolean cols\n",
    "          'nonmor', 'HasTicketInsurance', 'HasInsurance', 'HasBaggage', 'HasBaggage_Sale', 'HasAirhelpPlus', 'UsedVoucher', 'HasSP',\n",
    "          'IsCombinedOneWay', 'IsITFare', 'HasSplitPnr', 'IsLowCost', 'bookerIsTravelAgency']\n",
    "\n",
    "encoder = ce.OrdinalEncoder(cols=all_cat_cols, drop_invariant=False, return_df=True, handle_unknown='impute')\n",
    "encoder.fit(df)\n",
    "df = encoder.transform(df)\n",
    "\n",
    "joblib.dump(encoder, '/home/gjain/ordinal_encoder.pkl', compress=3)\n",
    "\n",
    "df.isnull().sum()\n",
    "# df[df.isin([np.nan, np.inf, -np.inf]).any(1)].head()"
   ]
  },
  {
   "cell_type": "code",
   "execution_count": 0,
   "metadata": {
    "colab": {},
    "colab_type": "code",
    "id": "i4oup786E8iu",
    "outputId": "9ddde153-584f-4f93-a677-90b6f279db49"
   },
   "outputs": [
    {
     "data": {
      "text/plain": [
       "'2.0.0'"
      ]
     },
     "execution_count": 22,
     "metadata": {
      "tags": []
     },
     "output_type": "execute_result"
    }
   ],
   "source": [
    "importlib.reload(ce)\n",
    "ce.__version__"
   ]
  },
  {
   "cell_type": "code",
   "execution_count": 0,
   "metadata": {
    "colab": {},
    "colab_type": "code",
    "id": "-f7wc2_eE8iz",
    "outputId": "0aa2cbde-2e2b-49d6-a6c1-5811180bdaf6"
   },
   "outputs": [
    {
     "data": {
      "text/plain": [
       "0    1386632\n",
       "1    2570   \n",
       "Name: target, dtype: int64"
      ]
     },
     "execution_count": 21,
     "metadata": {
      "tags": []
     },
     "output_type": "execute_result"
    }
   ],
   "source": [
    "df.target.value_counts()"
   ]
  },
  {
   "cell_type": "code",
   "execution_count": 0,
   "metadata": {
    "colab": {},
    "colab_type": "code",
    "id": "5m0tA8ZpE8i7"
   },
   "outputs": [],
   "source": [
    "df.to_pickle('/home/gjain/df_cat_enc_part1.pkl')"
   ]
  }
 ],
 "metadata": {
  "colab": {
   "collapsed_sections": [],
   "name": "dataset_train.ipynb",
   "provenance": [],
   "version": "0.3.2"
  },
  "kernelspec": {
   "display_name": "Python 3",
   "language": "python",
   "name": "python3"
  },
  "language_info": {
   "codemirror_mode": {
    "name": "ipython",
    "version": 3
   },
   "file_extension": ".py",
   "mimetype": "text/x-python",
   "name": "python",
   "nbconvert_exporter": "python",
   "pygments_lexer": "ipython3",
   "version": "3.6.0"
  }
 },
 "nbformat": 4,
 "nbformat_minor": 1
}
