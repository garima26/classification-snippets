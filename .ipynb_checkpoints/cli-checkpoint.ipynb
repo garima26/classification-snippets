{
 "cells": [
  {
   "cell_type": "code",
   "execution_count": null,
   "metadata": {},
   "outputs": [],
   "source": [
    "\"\"\"Fraud Model\n",
    "\n",
    "Usage:\n",
    "    fraud-cli train <data-dir> <filename-pat-list> [--new-enc-path=<new_enc_path> --test-mode=<test-mode>]\n",
    "    fraud-cli ask <data-dir> <filename-pat-list> <cat-encoder-path> <model-file> [--test-mode=<test-mode>]\n",
    "    fraud-cli (-h | --help)\n",
    "\n",
    "Arguments:\n",
    "    <data-dir>           Directory with dataset\n",
    "    <filename-pat-list>  Filename pattern list\n",
    "    <cat-encoder-path>   Categorical encoder path\n",
    "    <model-file>         Model path\n",
    "    \n",
    "Options:\n",
    "    --new-enc-path=<new_enc_path> \n",
    "    --test-mode=<test-mode>\n",
    "    -h --help\n",
    "\n",
    "\n",
    "\"\"\""
   ]
  },
  {
   "cell_type": "code",
   "execution_count": 3,
   "metadata": {},
   "outputs": [],
   "source": [
    "from docopt import docopt "
   ]
  },
  {
   "cell_type": "code",
   "execution_count": null,
   "metadata": {},
   "outputs": [],
   "source": [
    "def main():\n",
    "    arguments=docopt(__doc__)\n",
    "    \n",
    "    if arguments['train']:\n",
    "        train_model(arguments['<data-dir>'], \n",
    "                    arguments['<filename-pat-list>'], \n",
    "                    arguments['--new-enc-path'],\n",
    "                    arguments['--test-mode']\n",
    "        )\n",
    "    elif arguments['ask']:\n",
    "        train_model(arguments['<data-dir>'], \n",
    "                    arguments['<filename-pat-list>'], \n",
    "                    arguments['<cat-encoder-path>'],\n",
    "                    arguments['<model-file>'],\n",
    "                    arguments['--test-mode']\n",
    "        )\n",
    "if __name__=='__main__'        :\n",
    "    main()"
   ]
  }
 ],
 "metadata": {
  "kernelspec": {
   "display_name": "Python 3",
   "language": "python",
   "name": "python3"
  },
  "language_info": {
   "codemirror_mode": {
    "name": "ipython",
    "version": 3
   },
   "file_extension": ".py",
   "mimetype": "text/x-python",
   "name": "python",
   "nbconvert_exporter": "python",
   "pygments_lexer": "ipython3",
   "version": "3.6.0"
  }
 },
 "nbformat": 4,
 "nbformat_minor": 2
}
