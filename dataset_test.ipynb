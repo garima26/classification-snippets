{
 "cells": [
  {
   "cell_type": "code",
   "execution_count": 1,
   "metadata": {},
   "outputs": [],
   "source": [
    "import utils\n",
    "import pandas as pd\n",
    "import numpy as np\n",
    "from sklearn.externals import joblib\n",
    "\n",
    "import category_encoders as ce\n",
    "\n",
    "import importlib\n",
    "importlib.reload(utils)\n",
    "\n",
    "pd.options.display.float_format = \"{:.2f}\".format\n",
    "pd.set_option('display.max_columns', None)  # or 1000\n",
    "pd.set_option('display.max_rows', None)  # or 1000\n",
    "pd.set_option('display.max_colwidth', -1)  # or 199\n",
    "\n",
    "#######################################################################\n",
    "encoder=joblib.load('/home/gjain/ordinal_encoder.pkl')"
   ]
  },
  {
   "cell_type": "markdown",
   "metadata": {},
   "source": [
    "# Get data"
   ]
  },
  {
   "cell_type": "code",
   "execution_count": 2,
   "metadata": {},
   "outputs": [
    {
     "name": "stderr",
     "output_type": "stream",
     "text": [
      "/home/ubuntu/yes/lib/python3.5/site-packages/IPython/core/interactiveshell.py:2785: DtypeWarning: Columns (4,9,30,31,32,39) have mixed types. Specify dtype option on import or set low_memory=False.\n",
      "  interactivity=interactivity, compiler=compiler, result=result)\n"
     ]
    },
    {
     "name": "stdout",
     "output_type": "stream",
     "text": [
      "(267688, 91)\n"
     ]
    },
    {
     "data": {
      "text/plain": [
       "0    267449\n",
       "1    239   \n",
       "Name: target, dtype: int64"
      ]
     },
     "execution_count": 2,
     "metadata": {},
     "output_type": "execute_result"
    }
   ],
   "source": [
    "df=pd.read_csv('/home/gjain/dec_data_000000000000.csv')\n",
    "# df=pd.read_csv('/home/gjain/jan19_data_000000000000.csv')\n",
    "\n",
    "df.drop_duplicates(subset='order_number', keep='first', inplace=True)\n",
    "print (df.shape)\n",
    "\n",
    "df.target.value_counts()"
   ]
  },
  {
   "cell_type": "code",
   "execution_count": 3,
   "metadata": {},
   "outputs": [
    {
     "name": "stdout",
     "output_type": "stream",
     "text": [
      "<class 'pandas.core.frame.DataFrame'>\n",
      "Int64Index: 267688 entries, 0 to 267725\n",
      "Data columns (total 91 columns):\n",
      "timestamp                       267688 non-null object\n",
      "order_number                    267688 non-null object\n",
      "pay_id                          267688 non-null object\n",
      "affiliate                       267688 non-null object\n",
      "channelcode                     205541 non-null object\n",
      "local_trans_amt                 267688 non-null float64\n",
      "trans_currency                  267688 non-null object\n",
      "nonmor                          267688 non-null bool\n",
      "payment_method                  267688 non-null object\n",
      "eci                             267688 non-null object\n",
      "card_cvvmatch                   267688 non-null object\n",
      "card_avsmatch                   267688 non-null object\n",
      "card_bin                        157024 non-null float64\n",
      "card_country                    81136 non-null object\n",
      "ip_address                      267688 non-null object\n",
      "customer_email                  267688 non-null object\n",
      "customer_name                   267688 non-null object\n",
      "customer_title                  267688 non-null object\n",
      "success_attempt_id              267688 non-null object\n",
      "card_num                        249503 non-null object\n",
      "website_language                267688 non-null object\n",
      "brand_continent                 267688 non-null object\n",
      "BrandTimeZone                   267688 non-null object\n",
      "HasTicketInsurance              267688 non-null bool\n",
      "HasInsurance                    267688 non-null bool\n",
      "HasBaggage                      267688 non-null bool\n",
      "HasBaggage_Sale                 267688 non-null bool\n",
      "HasAirhelpPlus                  267688 non-null bool\n",
      "UsedVoucher                     267688 non-null bool\n",
      "HasSP                           267688 non-null bool\n",
      "GA_DeviceCategory               227038 non-null object\n",
      "GA_DeviceIsMobile               227038 non-null object\n",
      "BookerContactPhone              267647 non-null object\n",
      "gender                          267688 non-null object\n",
      "dob                             267644 non-null object\n",
      "BookerStreet                    267637 non-null object\n",
      "BookerZipCode                   247717 non-null object\n",
      "BookerCity                      267644 non-null object\n",
      "BookerCountry_Name              267647 non-null object\n",
      "BookerState                     36896 non-null object\n",
      "TotalAmountEUR                  267688 non-null float64\n",
      "airline                         265679 non-null object\n",
      "Consolidator                    267498 non-null object\n",
      "OriginAirportCode               267688 non-null object\n",
      "OriginCityName                  267162 non-null object\n",
      "OriginCountryName               267688 non-null object\n",
      "OriginWorldPartName             267688 non-null object\n",
      "OriginRegion                    267688 non-null object\n",
      "OriginSubRegion                 267677 non-null object\n",
      "OriginLatitude                  267688 non-null float64\n",
      "OriginLongitude                 267688 non-null float64\n",
      "DestinationAirportCode          267688 non-null object\n",
      "DestinationCityName             266990 non-null object\n",
      "DestinationCountryName          267688 non-null object\n",
      "DestinationWorldPartName        267688 non-null object\n",
      "DestinationRegion               267688 non-null object\n",
      "DestinationSubRegion            267671 non-null object\n",
      "DestinationLatitude             267688 non-null float64\n",
      "DestinationLongitude            267688 non-null float64\n",
      "DepartureDate                   267688 non-null object\n",
      "ReturnDate                      180263 non-null object\n",
      "EndDate                         267688 non-null object\n",
      "Supplier                        267688 non-null object\n",
      "DomesticOrInternational         267688 non-null object\n",
      "Haul                            267688 non-null object\n",
      "OneWayOrReturn                  267688 non-null object\n",
      "IsCombinedOneWay                267688 non-null bool\n",
      "FareType                        267655 non-null object\n",
      "IsITFare                        267688 non-null bool\n",
      "GdsOfficeId                     267688 non-null object\n",
      "Itinerary                       267685 non-null object\n",
      "TotalNumberOfPassengers         267688 non-null int64\n",
      "TotalNumberOfAdults             267688 non-null int64\n",
      "TotalNumberOfChildren           267688 non-null int64\n",
      "TotalNumberOfInfants            267688 non-null int64\n",
      "COW_NumberOfSegments            267688 non-null int64\n",
      "COW_NumberOfInboundSegments     267688 non-null int64\n",
      "COW_NumberOfOutboundSegments    267688 non-null int64\n",
      "NumberOfTickets                 267688 non-null int64\n",
      "FareBaseAmount                  267688 non-null float64\n",
      "BookingClasses                  267682 non-null object\n",
      "CabinClasses                    267688 non-null object\n",
      "TicketingMethod                 267498 non-null object\n",
      "HasSplitPnr                     267688 non-null bool\n",
      "DeviceType                      267686 non-null object\n",
      "OrderDateBrandTime_Year         267688 non-null int64\n",
      "OrderDateBrandTime_Month        267688 non-null int64\n",
      "OrderDateBrandTime_DayOfWeek    267688 non-null int64\n",
      "OrderDateBrandTime_Hour         267688 non-null int64\n",
      "IsLowCost                       267688 non-null bool\n",
      "target                          267688 non-null int64\n",
      "dtypes: bool(12), float64(8), int64(13), object(58)\n",
      "memory usage: 166.4+ MB\n"
     ]
    }
   ],
   "source": [
    "df.info()"
   ]
  },
  {
   "cell_type": "code",
   "execution_count": 37,
   "metadata": {},
   "outputs": [
    {
     "data": {
      "text/plain": [
       "0    267449\n",
       "1    239   \n",
       "Name: target, dtype: int64"
      ]
     },
     "execution_count": 37,
     "metadata": {},
     "output_type": "execute_result"
    }
   ],
   "source": [
    "df=df[~pd.isna(df.DepartureDate)]\n",
    "df.target.value_counts()"
   ]
  },
  {
   "cell_type": "markdown",
   "metadata": {},
   "source": [
    "# Feature engineering"
   ]
  },
  {
   "cell_type": "code",
   "execution_count": 4,
   "metadata": {},
   "outputs": [],
   "source": [
    "email=df['customer_email'].str.split(\"@\",expand=True)\n",
    "email.columns=['id','domain']\n",
    "\n",
    "df['email_id']=email['id']\n",
    "df['email_user_id_len']=email['id'].astype('str').apply(lambda x: len(x) if x is not None else 0)\n",
    "df['email_domain']=email['domain']\n",
    "\n",
    "#DOB splits\n",
    "dob=df['dob'].astype('str').str.split(\" \",expand=True)\n",
    "dob=dob[dob.columns[0]].str.split(\"-\",expand=True)\n",
    "dob.columns=['year','month','day']\n",
    "df['dob_year']=dob['year'].astype('str')\n",
    "df['dob_month']=dob['month'].astype('str')\n",
    "df['dob_day']=dob['day'].astype('str')\n",
    "\n",
    "df['bookerIsTravelAgency'] = df.customer_name.astype('str').apply(lambda x: utils.booker_is_travel_agency(x) if x is not None else False)\n",
    "df['successful_attempt_no']=df.success_attempt_id.apply(lambda x: utils.attempt_no(x))\n",
    "df['country_ip_flight_MatchScore']=df.apply(utils.country_ip_flight_match_score, axis=1)\n",
    "df['flight_distance']=df.apply(utils.one_way_distance, axis=1)\n",
    "df['days_to_departure']=df.apply(utils.days_to_departure,axis=1)\n",
    "df['vacation_length']=df.apply(utils.vacation_length,axis=1)\n",
    "df['cities_in_itinerary']=df.Itinerary.astype('str').apply(lambda x: utils.cities_in_itinerary(x) if x is not None else 0)\n",
    "df['cabin_class']=df.CabinClasses.astype('str').apply(lambda x: utils.cabinclass(x))\n",
    "df['bookerAge']=df.dob_year.apply(lambda x: utils.get_age(x))\n",
    "df['name_len']=df.customer_name.astype('str').apply(lambda x: len(x) if x is not None else 0)\n",
    "\n",
    "## Time related variables to be binned\n",
    "df['weekend_booking']=df.OrderDateBrandTime_DayOfWeek.apply(lambda x: 1 if x in (1,7) else 0)\n",
    "df['booking_daytime']= df.OrderDateBrandTime_Hour.apply(lambda x: utils.booking_daytime(x))\n",
    "df['bookerAgeBracket']=df.bookerAge.apply(lambda x: utils.booker_age_bracket(x))\n",
    "df['channelcode'].fillna('Direct',inplace=True)\n",
    "\n",
    "df['dob_month'].fillna(0.0,inplace=True)\n",
    "\n",
    "df.customer_name.fillna('Unknown',inplace=True)\n",
    "df.email_id.fillna(value='Unknown',inplace=True)\n",
    "\n",
    "df['eci']=df['eci'].apply(lambda x: x.replace('0','',1) if isinstance(x,str) else str(x).replace('0','',1))\n",
    "\n",
    "#This can throw error if customer name or email id is nan\n",
    "score = np.vectorize(utils.jaro_similarity, otypes=[np.float])(df.customer_name.values, df.email_id.values)\n",
    "vector_emailed2 = np.vectorize(utils.email_real_check2)\n",
    "email_sanity_score=vector_emailed2(df.customer_name.values, df.email_id.values, df.dob_year.values, df.dob_month.values,\n",
    "                                   df.dob_day.values, score)\n",
    "df['email_sanity_score']=email_sanity_score\n",
    "\n",
    "#Cyclical features from timestamp\n",
    "df['ordermonth_sin']=df.OrderDateBrandTime_Month.apply(lambda x: utils.encode_circular(x,\"sin\", 12))\n",
    "df['ordermonth_cos']=df.OrderDateBrandTime_Month.apply(lambda x: utils.encode_circular(x,\"cos\", 12))\n",
    "\n",
    "dd=df.DepartureDate.apply(lambda x: pd.to_datetime(x).date().month)\n",
    "df['departuremonth_sin']=dd.apply(lambda x: utils.encode_circular(x,\"sin\", 12))\n",
    "df['departuremonth_cos']=dd.apply(lambda x: utils.encode_circular(x,\"cos\", 12))\n",
    "\n",
    "######################################################################################\n",
    "cols_to_drop=['BookerContactPhone','success_attempt_id','email_id','customer_email','dob','card_num','card_country','BookerStreet','BookerZipCode','BookerState','card_bin','customer_name','OriginLatitude','OriginLongitude','DestinationLatitude','DestinationLongitude',\n",
    "             'DepartureDate','ReturnDate','EndDate','FareType','GdsOfficeId','Itinerary','BookingClasses','CabinClasses','TicketingMethod','GA_DeviceIsMobile','GA_DeviceCategory','OrderDateBrandTime_Year',\n",
    "             'ip_address','dob_day','dob_year',\n",
    "#               'OrderDateBrandTime_DayOfWeek',\n",
    "              'OrderDateBrandTime_Month',\n",
    "              'OrderDateBrandTime_Hour','bookerAge','BrandTimeZone']\n",
    "\n",
    "df.drop(cols_to_drop,axis=1,inplace=True)"
   ]
  },
  {
   "cell_type": "markdown",
   "metadata": {},
   "source": [
    "# Missing value treatment"
   ]
  },
  {
   "cell_type": "code",
   "execution_count": 5,
   "metadata": {},
   "outputs": [],
   "source": [
    "df.fillna('Unknown',axis=1,inplace=True)"
   ]
  },
  {
   "cell_type": "code",
   "execution_count": 7,
   "metadata": {},
   "outputs": [
    {
     "data": {
      "text/plain": [
       "(267688, 80)"
      ]
     },
     "execution_count": 7,
     "metadata": {},
     "output_type": "execute_result"
    }
   ],
   "source": [
    "df.shape"
   ]
  },
  {
   "cell_type": "markdown",
   "metadata": {},
   "source": [
    "# Categorical encoding"
   ]
  },
  {
   "cell_type": "code",
   "execution_count": 9,
   "metadata": {},
   "outputs": [
    {
     "ename": "TypeError",
     "evalue": "'list' object is not callable",
     "output_type": "error",
     "traceback": [
      "\u001b[0;31m---------------------------------------------------------------------------\u001b[0m",
      "\u001b[0;31mTypeError\u001b[0m                                 Traceback (most recent call last)",
      "\u001b[0;32m<ipython-input-9-0ed8a0af2e79>\u001b[0m in \u001b[0;36m<module>\u001b[0;34m()\u001b[0m\n\u001b[1;32m     15\u001b[0m \u001b[0;34m\u001b[0m\u001b[0m\n\u001b[1;32m     16\u001b[0m \u001b[0mencoder\u001b[0m\u001b[0;34m.\u001b[0m\u001b[0mset_params\u001b[0m\u001b[0;34m(\u001b[0m\u001b[0mhandle_missing\u001b[0m\u001b[0;34m=\u001b[0m\u001b[0;34m'value'\u001b[0m\u001b[0;34m)\u001b[0m\u001b[0;34m\u001b[0m\u001b[0m\n\u001b[0;32m---> 17\u001b[0;31m \u001b[0mdf\u001b[0m \u001b[0;34m=\u001b[0m \u001b[0mencoder\u001b[0m\u001b[0;34m.\u001b[0m\u001b[0mtransform\u001b[0m\u001b[0;34m(\u001b[0m\u001b[0mdf\u001b[0m\u001b[0;34m)\u001b[0m\u001b[0;34m\u001b[0m\u001b[0m\n\u001b[0m\u001b[1;32m     18\u001b[0m \u001b[0;34m\u001b[0m\u001b[0m\n\u001b[1;32m     19\u001b[0m \u001b[0mdf\u001b[0m\u001b[0;34m.\u001b[0m\u001b[0misnull\u001b[0m\u001b[0;34m(\u001b[0m\u001b[0;34m)\u001b[0m\u001b[0;34m.\u001b[0m\u001b[0msum\u001b[0m\u001b[0;34m(\u001b[0m\u001b[0;34m)\u001b[0m\u001b[0;34m\u001b[0m\u001b[0m\n",
      "\u001b[0;32m/home/ubuntu/yes/lib/python3.5/site-packages/category_encoders/ordinal.py\u001b[0m in \u001b[0;36mtransform\u001b[0;34m(self, X, override_return_df)\u001b[0m\n\u001b[1;32m    203\u001b[0m             \u001b[0mcols\u001b[0m\u001b[0;34m=\u001b[0m\u001b[0mself\u001b[0m\u001b[0;34m.\u001b[0m\u001b[0mcols\u001b[0m\u001b[0;34m,\u001b[0m\u001b[0;34m\u001b[0m\u001b[0m\n\u001b[1;32m    204\u001b[0m             \u001b[0mhandle_unknown\u001b[0m\u001b[0;34m=\u001b[0m\u001b[0mself\u001b[0m\u001b[0;34m.\u001b[0m\u001b[0mhandle_unknown\u001b[0m\u001b[0;34m,\u001b[0m\u001b[0;34m\u001b[0m\u001b[0m\n\u001b[0;32m--> 205\u001b[0;31m             \u001b[0mhandle_missing\u001b[0m\u001b[0;34m=\u001b[0m\u001b[0mself\u001b[0m\u001b[0;34m.\u001b[0m\u001b[0mhandle_missing\u001b[0m\u001b[0;34m\u001b[0m\u001b[0m\n\u001b[0m\u001b[1;32m    206\u001b[0m         )\n\u001b[1;32m    207\u001b[0m \u001b[0;34m\u001b[0m\u001b[0m\n",
      "\u001b[0;32m/home/ubuntu/yes/lib/python3.5/site-packages/category_encoders/ordinal.py\u001b[0m in \u001b[0;36mordinal_encoding\u001b[0;34m(X_in, mapping, cols, handle_unknown, handle_missing)\u001b[0m\n\u001b[1;32m    288\u001b[0m             \u001b[0;32mfor\u001b[0m \u001b[0mswitch\u001b[0m \u001b[0;32min\u001b[0m \u001b[0mmapping\u001b[0m\u001b[0;34m:\u001b[0m\u001b[0;34m\u001b[0m\u001b[0m\n\u001b[1;32m    289\u001b[0m                 \u001b[0mcolumn\u001b[0m \u001b[0;34m=\u001b[0m \u001b[0mswitch\u001b[0m\u001b[0;34m.\u001b[0m\u001b[0mget\u001b[0m\u001b[0;34m(\u001b[0m\u001b[0;34m'col'\u001b[0m\u001b[0;34m)\u001b[0m\u001b[0;34m\u001b[0m\u001b[0m\n\u001b[0;32m--> 290\u001b[0;31m                 \u001b[0mX\u001b[0m\u001b[0;34m[\u001b[0m\u001b[0mcolumn\u001b[0m\u001b[0;34m]\u001b[0m \u001b[0;34m=\u001b[0m \u001b[0mX\u001b[0m\u001b[0;34m[\u001b[0m\u001b[0mcolumn\u001b[0m\u001b[0;34m]\u001b[0m\u001b[0;34m.\u001b[0m\u001b[0mmap\u001b[0m\u001b[0;34m(\u001b[0m\u001b[0mswitch\u001b[0m\u001b[0;34m[\u001b[0m\u001b[0;34m'mapping'\u001b[0m\u001b[0;34m]\u001b[0m\u001b[0;34m)\u001b[0m\u001b[0;34m\u001b[0m\u001b[0m\n\u001b[0m\u001b[1;32m    291\u001b[0m \u001b[0;34m\u001b[0m\u001b[0m\n\u001b[1;32m    292\u001b[0m                 \u001b[0;32mtry\u001b[0m\u001b[0;34m:\u001b[0m\u001b[0;34m\u001b[0m\u001b[0m\n",
      "\u001b[0;32m/home/ubuntu/yes/lib/python3.5/site-packages/pandas/core/series.py\u001b[0m in \u001b[0;36mmap\u001b[0;34m(self, arg, na_action)\u001b[0m\n\u001b[1;32m   3380\u001b[0m         \"\"\"\n\u001b[1;32m   3381\u001b[0m         new_values = super(Series, self)._map_values(\n\u001b[0;32m-> 3382\u001b[0;31m             arg, na_action=na_action)\n\u001b[0m\u001b[1;32m   3383\u001b[0m         return self._constructor(new_values,\n\u001b[1;32m   3384\u001b[0m                                  index=self.index).__finalize__(self)\n",
      "\u001b[0;32m/home/ubuntu/yes/lib/python3.5/site-packages/pandas/core/base.py\u001b[0m in \u001b[0;36m_map_values\u001b[0;34m(self, mapper, na_action)\u001b[0m\n\u001b[1;32m   1216\u001b[0m \u001b[0;34m\u001b[0m\u001b[0m\n\u001b[1;32m   1217\u001b[0m         \u001b[0;31m# mapper is a function\u001b[0m\u001b[0;34m\u001b[0m\u001b[0;34m\u001b[0m\u001b[0m\n\u001b[0;32m-> 1218\u001b[0;31m         \u001b[0mnew_values\u001b[0m \u001b[0;34m=\u001b[0m \u001b[0mmap_f\u001b[0m\u001b[0;34m(\u001b[0m\u001b[0mvalues\u001b[0m\u001b[0;34m,\u001b[0m \u001b[0mmapper\u001b[0m\u001b[0;34m)\u001b[0m\u001b[0;34m\u001b[0m\u001b[0m\n\u001b[0m\u001b[1;32m   1219\u001b[0m \u001b[0;34m\u001b[0m\u001b[0m\n\u001b[1;32m   1220\u001b[0m         \u001b[0;32mreturn\u001b[0m \u001b[0mnew_values\u001b[0m\u001b[0;34m\u001b[0m\u001b[0m\n",
      "\u001b[0;32mpandas/_libs/lib.pyx\u001b[0m in \u001b[0;36mpandas._libs.lib.map_infer\u001b[0;34m()\u001b[0m\n",
      "\u001b[0;31mTypeError\u001b[0m: 'list' object is not callable"
     ]
    }
   ],
   "source": [
    "all_cat_cols=['affiliate','channelcode','trans_currency','nonmor','payment_method','eci','card_cvvmatch','card_avsmatch','customer_title','website_language',\n",
    "          'brand_continent','HasTicketInsurance','HasInsurance','HasBaggage','HasBaggage_Sale','HasAirhelpPlus','UsedVoucher','HasSP','gender',\n",
    "          'BookerCity','BookerCountry_Name','airline','Consolidator','OriginAirportCode','OriginCityName','OriginCountryName','OriginWorldPartName','OriginRegion',\n",
    "          'OriginSubRegion','DestinationAirportCode','DestinationCityName','DestinationCountryName','DestinationWorldPartName','DestinationRegion','DestinationSubRegion',\n",
    "          'Supplier','DomesticOrInternational','Haul','OneWayOrReturn','IsCombinedOneWay','IsITFare',\n",
    "          'HasSplitPnr','DeviceType','IsLowCost','email_domain','cabin_class','bookerIsTravelAgency','weekend_booking',\n",
    "#           'OrderDateBrandTime_Month',\n",
    "          'dob_month','booking_daytime',\n",
    "          'bookerAgeBracket',\n",
    "           #new add\n",
    "          'OrderDateBrandTime_DayOfWeek',\n",
    "          #boolean cols\n",
    "          'nonmor', 'HasTicketInsurance', 'HasInsurance', 'HasBaggage', 'HasBaggage_Sale', 'HasAirhelpPlus', 'UsedVoucher', 'HasSP',\n",
    "          'IsCombinedOneWay', 'IsITFare', 'HasSplitPnr', 'IsLowCost', 'bookerIsTravelAgency']\n",
    "\n",
    "encoder.set_params(handle_missing='value')\n",
    "df = encoder.transform(df)\n",
    "\n",
    "df.isnull().sum()"
   ]
  },
  {
   "cell_type": "code",
   "execution_count": 41,
   "metadata": {},
   "outputs": [],
   "source": [
    "df.to_pickle('/home/gjain/dec_data.pkl')"
   ]
  }
 ],
 "metadata": {
  "kernelspec": {
   "display_name": "Python 3",
   "language": "python",
   "name": "python3"
  },
  "language_info": {
   "codemirror_mode": {
    "name": "ipython",
    "version": 3
   },
   "file_extension": ".py",
   "mimetype": "text/x-python",
   "name": "python",
   "nbconvert_exporter": "python",
   "pygments_lexer": "ipython3",
   "version": "3.6.0"
  }
 },
 "nbformat": 4,
 "nbformat_minor": 2
}
